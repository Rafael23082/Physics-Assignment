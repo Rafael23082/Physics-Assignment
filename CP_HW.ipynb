{
 "cells": [
  {
   "cell_type": "code",
   "execution_count": null,
   "metadata": {},
   "outputs": [
    {
     "name": "stdout",
     "output_type": "stream",
     "text": [
      "[7, 11, 13, 17, 19, 23, 29, 31, 37, 41, 43, 47, 53, 59, 61, 67, 71, 73, 79, 83, 89, 97, 101, 103, 107, 109, 113, 127, 131, 137, 139, 149, 151, 157, 163, 167, 173, 179, 181, 191, 193, 197, 199, 211, 223, 227, 229, 233, 239, 241, 251, 257, 263, 269, 271, 277, 281, 283, 293, 307, 311, 313, 317, 331, 337, 347, 349, 353, 359, 367, 373, 379, 383, 389, 397, 401, 409, 419, 421, 431, 433, 439, 443, 449, 457, 461, 463, 467, 479, 487, 491, 499, 503, 509, 521, 523, 541, 547, 557, 563]\n",
      "100 numbers\n"
     ]
    }
   ],
   "source": [
    "# Exercise 1.1 \n",
    "\n",
    "# Function to check whether a number is prime or not\n",
    "def check_prime(number):\n",
    "    if number == 2 or number == 3:\n",
    "        return True\n",
    "\n",
    "    prime = True\n",
    "    for i in range(2, number): # A prime number is a number that can be divided by one and the number itself.\n",
    "        if number % i == 0:\n",
    "            prime = False\n",
    "            return False\n",
    "    if prime: \n",
    "        return True\n",
    "\n",
    "def find_100_primes(number):\n",
    "    solution_arr = []\n",
    "    numbers_found = 0\n",
    "    while numbers_found < 100:\n",
    "        number += 1\n",
    "        prime = check_prime(number)\n",
    "\n",
    "        if prime: \n",
    "            solution_arr.append(number)\n",
    "            numbers_found += 1\n",
    "    \n",
    "    print(solution_arr)\n",
    "    print(len(solution_arr), \"numbers\")\n",
    "\n",
    "number = int(input(\"Enter a number\")) # User Input\n",
    "find_100_primes(number)\n"
   ]
  },
  {
   "cell_type": "code",
   "execution_count": 12,
   "metadata": {},
   "outputs": [
    {
     "name": "stdout",
     "output_type": "stream",
     "text": [
      "For a 100m tower, it will take 4.5175395145262565 seconds for it to reach the ground.\n"
     ]
    }
   ],
   "source": [
    "# Exercise 1.3\n",
    "\n",
    "height = int(input(\"Enter the height of the tower in meters (m)\")) # User Input\n",
    "\n",
    "# g = 9.8m/s\n",
    "# d = (g * t^2)/2\n",
    "# height = (9.8 * t^2) / 2\n",
    "# height = 9.8t^2/2\n",
    "\n",
    "# 9.8t^2 = 2 height\n",
    "# t^2 = 2 height / 9.8\n",
    "# t = sqrt(2height / 9.8)\n",
    "\n",
    "import math \n",
    "\n",
    "time = math.sqrt((2 * height)/9.8)\n",
    "print(f\"For a {height}m tower, it will take {time} seconds for it to reach the ground.\")"
   ]
  },
  {
   "cell_type": "code",
   "execution_count": 2,
   "metadata": {},
   "outputs": [
    {
     "name": "stdout",
     "output_type": "stream",
     "text": [
      "No materials with density: 21.45\n",
      "Closest to 21.45 is Platinum with a density of 21.4\n"
     ]
    }
   ],
   "source": [
    "# Key: Density (g/cm^3) Value: Name of material\n",
    "myData = {\n",
    "    0.534 : \"Lithium\",\n",
    "    0.92 : \"Ice\",\n",
    "    (1.1, 1.4) : \"Coal\",\n",
    "    1.7 : \"Magnesium\",\n",
    "    (2.6, 2.7) : \"Granite\",\n",
    "    2.7 : \"Aluminium\",\n",
    "    7.8 : \"Steel\",\n",
    "    7.8 : \"Iron\",\n",
    "    (8.3, 9) : \"Copper\",\n",
    "    11.3 : \"Lead\",\n",
    "    18.7 : \"Uranium\",\n",
    "    19.3 : \"Gold\",\n",
    "    21.4 : \"Platinum\",\n",
    "    22.6 : \"Osmium\",\n",
    "    22.6 : \"Iridium\"\n",
    "}\n",
    "\n",
    "def find_material(mass, volume): # Mass in g and volume in cm^3\n",
    "    density = mass / volume\n",
    "    found = False\n",
    "\n",
    "    for key, value in myData.items():\n",
    "        if isinstance(key, tuple):\n",
    "            if key[0] <= density <= key[1]:\n",
    "                print(f\"Density: {key[0]} - {key[1]}\")\n",
    "                print(\"Material:\", value)\n",
    "                found = True\n",
    "                break\n",
    "        elif isinstance(key, float):\n",
    "            if key == density:\n",
    "                print(f\"Density: {key}\")\n",
    "                print(\"Material:\", myData[key])\n",
    "                found = True\n",
    "                break\n",
    "    if found == False:\n",
    "        least = float(\"inf\")\n",
    "        mykey = 0\n",
    "        for key, value in myData.items():\n",
    "            if isinstance(key, float):\n",
    "                difference = density - key\n",
    "                if difference < 0: \n",
    "                    difference *= -1\n",
    "\n",
    "                if difference < least: \n",
    "                    least = difference\n",
    "                    mykey = key\n",
    "\n",
    "        print(f\"No materials with density: {density}\")\n",
    "        print(f\"Closest to {density} is {myData[mykey]} with a density of {mykey}\")\n",
    "\n",
    "find_material(858, 40)"
   ]
  }
 ],
 "metadata": {
  "kernelspec": {
   "display_name": "Python 3",
   "language": "python",
   "name": "python3"
  },
  "language_info": {
   "codemirror_mode": {
    "name": "ipython",
    "version": 3
   },
   "file_extension": ".py",
   "mimetype": "text/x-python",
   "name": "python",
   "nbconvert_exporter": "python",
   "pygments_lexer": "ipython3",
   "version": "3.12.0"
  }
 },
 "nbformat": 4,
 "nbformat_minor": 2
}
